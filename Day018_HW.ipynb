{
 "cells": [
  {
   "cell_type": "markdown",
   "metadata": {},
   "source": [
    "# 瀏覽器開發者工具介紹\n",
    "\n",
    "\n",
    "* 知道瀏覽器的開發者工具\n",
    "* 能夠使用瀏覽器的開發者工具觀察資料\n"
   ]
  },
  {
   "cell_type": "markdown",
   "metadata": {},
   "source": [
    "## 作業目標\n",
    "\n",
    "利用開發者工具去尋找「 https://www.zhihu.com/explore 」和「 http://aicoin.cn 」網站的 HTTP 網址，以及他所帶的 Headers 分別是哪些，試著用 request 去發送有沒有帶 Headers 的差異。\n"
   ]
  },
  {
   "cell_type": "markdown",
   "metadata": {},
   "source": [
    "### 1. https://www.zhihu.com/explore "
   ]
  },
  {
   "cell_type": "code",
   "execution_count": 1,
   "metadata": {
    "scrolled": true
   },
   "outputs": [
    {
     "name": "stdout",
     "output_type": "stream",
     "text": [
      "<html>\r\n",
      "<head><title>400 Bad Request</title></head>\r\n",
      "<body bgcolor=\"white\">\r\n",
      "<center><h1>400 Bad Request</h1></center>\r\n",
      "<hr><center>openresty</center>\r\n",
      "</body>\r\n",
      "</html>\r\n",
      "\n"
     ]
    }
   ],
   "source": [
    "import requests\n",
    "url = 'https://www.zhihu.com/explore'\n",
    "r = requests.get(url)\n",
    "r.encoding = 'utf-8'\n",
    "print(r.text)"
   ]
  },
  {
   "cell_type": "markdown",
   "metadata": {},
   "source": [
    "### 利用查看開發者工具觀察 Headers\n",
    "## Headers\n",
    "authority: www.zhihu.com\n",
    "method: GET\n",
    "path: /explore\n",
    "scheme: https\n",
    "accept: text/html,application/xhtml+xml,application/xml;q=0.9,image/webp,image/apng,*/*;q=0.8,application/signed-exchange;v=b3;q=0.9\n",
    "accept-encoding: gzip, deflate, br\n",
    "accept-language: zh-TW,zh;q=0.9,en-US;q=0.8,en;q=0.7\n",
    "cache-control: max-age=0\n",
    "cookie: _zap=0a1b9af4-d5fb-4d1c-81a0-10f40a132a90; d_c0=\"AMBbzBhleBGPTk12dUTu-99Bqflenk6Apk8=|1592917341\"; _ga=GA1.2.1511890652.1592917343; _gid=GA1.2.315335887.1596106165; _xsrf=1fc72075-8c76-4f7d-bbdd-d165cd178675; SESSIONID=4E2aMUx7TXRkhnqRi8op8HAinYvfd4QYGWLR346jKev; Hm_lvt_98beee57fd2ef70ccdd5ca52b9740c49=1595433787,1596106165,1596119356,1596119981; Hm_lpvt_98beee57fd2ef70ccdd5ca52b9740c49=1596119981; KLBRSID=cdfcc1d45d024a211bb7144f66bda2cf|1596119981|1596119333; JOID=UVEXCkubWmFJ3BA8RZHDMWcKOh5VpRRYIZJPT3nMCDgpvX1HHDeBQRzVETxHhcz7gQSMJ63xwum0ekZO0bOWgyU=; osd=VFgSAU-eU2RC2BU1QJrHNG4PMRpQrBFTJZdGSnLIDTEstnlCFTKKRRncFDdDgMX-igCJLqj6xuy9f01K1LqTiCE=; _gat_gtag_UA_149949619_1=1\n",
    "referer: http://localhost:8888/notebooks/Day018_HW.ipynb\n",
    "sec-fetch-dest: document\n",
    "sec-fetch-mode: navigate\n",
    "sec-fetch-site: cross-site\n",
    "sec-fetch-user: ?1\n",
    "upgrade-insecure-requests: 1\n",
    "user-agent: Mozilla/5.0 (Windows NT 10.0; Win64; x64) AppleWebKit/537.36 (KHTML, like Gecko) Chrome/84.0.4147.105 Safari/537.36\n",
    "\n",
    "## Response\n",
    "cache-control: private, must-revalidate, no-store\n",
    "content-encoding: br\n",
    "content-security-policy: default-src * blob:; img-src * data: blob: resource:; connect-src * wss: blob: resource:; frame-src 'self' *.zhihu.com mailto: tel: weixin: *.vzuu.com mo.m.taobao.com getpocket.com note.youdao.com safari-extension://com.evernote.safari.clipper-Q79WDW8YH9 zhihujs: captcha.guard.qcloud.com pos.baidu.com dup.baidustatic.com openapi.baidu.com wappass.baidu.com passport.baidu.com; script-src 'self' blob: *.zhihu.com g.alicdn.com qzonestyle.gtimg.cn res.wx.qq.com open.mobile.qq.com 'unsafe-eval' unpkg.zhimg.com unicom.zhimg.com captcha.gtimg.com captcha.guard.qcloud.com pagead2.googlesyndication.com cpro.baidustatic.com pos.baidu.com dup.baidustatic.com i.hao61.net 'nonce-3322dd39-20e7-4945-aba6-d09d7ef42b55' hm.baidu.com zz.bdstatic.com www.googletagmanager.com resource:; style-src 'self' 'unsafe-inline' *.zhihu.com unicom.zhimg.com resource: captcha.gtimg.com\n",
    "content-type: text/html; charset=utf-8\n",
    "date: Thu, 30 Jul 2020 14:39:52 GMT\n",
    "pragma: no-cache\n",
    "server: CLOUD ELB 1.0.0\n",
    "set-cookie: KLBRSID=cdfcc1d45d024a211bb7144f66bda2cf|1596119992|1596119333; Path=/\n",
    "status: 200\n",
    "strict-transport-security: max-age=15552000; includeSubDomains\n",
    "surrogate-control: no-store\n",
    "vary: Accept-Encoding\n",
    "x-backend-response: 0.229\n",
    "x-cdn-provider: tencent\n",
    "x-content-type-options: nosniff\n",
    "x-daa-tunnel: hop_count=4\n",
    "x-edge-timing: 0.476\n",
    "x-frame-options: SAMEORIGIN\n",
    "x-idc-id: 2\n",
    "x-lb-timing: 0.234\n",
    "x-nws-log-uuid: 0fae87e0-3f0f-4272-8aae-88605505b64c\n",
    "x-nws-uuid-verify: 669fab16e3684ec9bd3bf535669f2031\n",
    "x-secng-response: 0.23300004005432\n",
    "x-udid: AMBbzBhleBGPTk12dUTu-99Bqflenk6Apk8=\n",
    "x-xss-protection: 1; mode=block\n",
    "\n",
    "## Gernal\n",
    "Request URL: https://www.zhihu.com/explore\n",
    "Request Method: GET\n",
    "Status Code: 200 \n",
    "Remote Address: 23.236.104.62:443\n",
    "Referrer Policy: no-referrer-when-downgrade"
   ]
  },
  {
   "cell_type": "code",
   "execution_count": 23,
   "metadata": {
    "scrolled": true
   },
   "outputs": [
    {
     "name": "stdout",
     "output_type": "stream",
     "text": [
      "Bӷ�����!#R�z\u0000T-\u00122/X����?��#t����5���r�1���\u0004�n�\t1��\u000fT�4T9o�\u001c",
      "\"NI�\u000e!�X\u001e",
      "�\u000e�\u0000�<���ҩ����\u0005�\u0007S�j�lI\u0016�me��-@K�\u0011GDAD�q\u0016�n����jU�\u000e�w=/�\f",
      "�RA:�\u000e��D�\u0000�\u0015��M�1T�Z��ʓnU�f�I\u001c",
      "��[���a\u0005X��͝\u0013�j��K5�(U�\u001bGi9�\u0019��geo�n�n�U��PM�I�\u000e\b@@c8�X�I�2�\u001a\u001b�,��\u000f����'�YJiN�pKcAY��\u0002Ƚ3\u0003ޓ\f",
      "$�@�\r",
      "$�@�}N$�\u0003�g��{O��k��r���γS~\u0003�O���ߠ�˪��6\u0014t�4,0�˒\u0000�\u0014eYX\u0000�Y�',\u0001$���]��J����c��Ǯ�?^���H�6\u001e",
      "C�n���\u001bQ�Bl*�g��\u0001���ѫ6�⸹o�^LD|�8���\u001f�\bq}��U�\"�����q�\u00036���?�����\u0010ӥ���\r",
      "0�,�ʎ�5S2����9�Zr�zt�\"HB|���}л�w�\t��b\u001c",
      "�R\u0019\"�� \u001bT�\"��6Ӌj/Pۗ��\u000b",
      "�ߧD1�@��m�Qb\u000f�aEľ��\u0007G\u0003\u001f��O#P\u001f$,m���\u0018�\u001c",
      "+I\u001c",
      "��b5\u0019�$�c�\f",
      "��\u0010`Ƌ�wT�\f",
      "�76}׮ٔ\f",
      "�5,�(a Q\r",
      "����ݯ��\u001c",
      "� ���?2+���\u000f�oա�j��\u000f�軑b�C�+lV?��h��\u000b",
      "H�F1�5�z\n"
     ]
    }
   ],
   "source": [
    "import requests\n",
    "url = 'http://www.zhihu.com'\n",
    "\n",
    "headers = {\n",
    "    'authority': 'www.zhihu.com',\n",
    "    'method': 'GET',\n",
    "    'path': '/explore',\n",
    "    'scheme': 'https',\n",
    "    'accept': 'text/html,application/xhtml+xml,application/xml;q=0.9,image/webp,image/apng,*/*;q=0.8,application/signed-exchange;v=b3;q=0.9',\n",
    "    'accept-encoding': 'gzip, deflate, br',\n",
    "    'accept-language': 'zh-TW,zh;q=0.9,en-US;q=0.8,en;q=0.7',\n",
    "    'cache-control': 'max-age=0',\n",
    "    'cookie': '_zap=0a1b9af4-d5fb-4d1c-81a0-10f40a132a90; d_c0=\"AMBbzBhleBGPTk12dUTu-99Bqflenk6Apk8=|1592917341\"; _ga=GA1.2.1511890652.1592917343; _gid=GA1.2.315335887.1596106165; _xsrf=1fc72075-8c76-4f7d-bbdd-d165cd178675; SESSIONID=4E2aMUx7TXRkhnqRi8op8HAinYvfd4QYGWLR346jKev; Hm_lvt_98beee57fd2ef70ccdd5ca52b9740c49=1595433787,1596106165,1596119356,1596119981; Hm_lpvt_98beee57fd2ef70ccdd5ca52b9740c49=1596119981; KLBRSID=cdfcc1d45d024a211bb7144f66bda2cf|1596119981|1596119333; JOID=UVEXCkubWmFJ3BA8RZHDMWcKOh5VpRRYIZJPT3nMCDgpvX1HHDeBQRzVETxHhcz7gQSMJ63xwum0ekZO0bOWgyU=; osd=VFgSAU-eU2RC2BU1QJrHNG4PMRpQrBFTJZdGSnLIDTEstnlCFTKKRRncFDdDgMX-igCJLqj6xuy9f01K1LqTiCE=; _gat_gtag_UA_149949619_1=1',\n",
    "    'referer': 'http://localhost:8888/notebooks/Day018_HW.ipynb',\n",
    "    'DNT': '1',\n",
    "    'sec-fetch-dest': 'document',\n",
    "    'sec-fetch-mode': 'navigate',\n",
    "    'sec-fetch-site': 'cross-site',\n",
    "    'sec-fetch-user': '?1',\n",
    "    'upgrade-insecure-requests': '1',\n",
    "    'user-agent': 'Mozilla/5.0 (Windows NT 10.0; Win64; x64) AppleWebKit/537.36 (KHTML, like Gecko) Chrome/84.0.4147.105 Safari/537.36'\n",
    "}\n",
    "\n",
    "r = requests.get(url, headers=headers)\n",
    "\n",
    "r.encoding = 'utf-8'\n",
    "print(r.text[0:600])"
   ]
  },
  {
   "cell_type": "markdown",
   "metadata": {},
   "source": [
    "### 2. http://aicoin.cn"
   ]
  },
  {
   "cell_type": "code",
   "execution_count": 18,
   "metadata": {},
   "outputs": [
    {
     "name": "stdout",
     "output_type": "stream",
     "text": [
      "<!DOCTYPE html><html style=\"height:100%;width:100%\"><head><meta http-equiv=\"Content-Type\" content=\"text/html; charset=utf-8\" /><meta http-equiv=\"Server\" content=\"CloudWAF\" /><title id=\"title\">访问被拦截！</title><script>function bindall() {var requestid = \"30-31-17-20200730224546-08cf2da9\";if(requestid==null || requestid == \"\"){return;}document.getElementById(\"d\").innerText = requestid;}</script></head><body onload=\"bindall()\" style=\"height:100%;width:100%;margin:0px;font-family:Microsoft yahei\"><div><style type=\"text/css\">\t.button{float:right;margin-right:2rem;text-decoration:none;background:white;color:#e94d4c;padding: 5px 15px 5px 15px;font-size:1rem;font-family: 微软雅黑,宋体,Arial,Helvetica,Verdana,sans-serif;font-weight:bold;border-radius:0rem;border: none;-webkit-transition:all linear 0.30s;-moz-transition:all linear 0.30s;}.button:hover{text-decoration:none;background:#e94d4c;color:#f2f2f2;}</style><input type=\"button\" class=\"button\" onclick=\"changeLanguageZh()\" value=\"中文\"/><input type=\"button\" class=\"button\"  onclick=\"changeLanguageEn()\" value=\"English\"/></div><div style=\"min-height:13.125rem;height:17%;width:100%\"><div style=\"margin-top:3.75rem;margin-left:18.4375rem;height:52.38;width:83.04%;\"><svg xmlns=\"http://www.w3.org/2000/svg\" style=\"width: 3.125rem;height: 3.125rem\" viewBox=\"0 0 50 50\"><path fill=\"#e84e4c\" d=\"M25,0A25,25,0,1,0,50,25,25,25,0,0,0,25,0Zm1.6,37.16H22.85V33.41H26.6Zm0-6.63H22.85L22.35,13H27.1Z\"/></svg><font style=\"font-family:MicrosoftYaHei;font-size:4.375rem;color:#e94d4c;margin-left: 0.75rem;font-weight: bold;\">418</font></div><div style=\"margin-left:18.4375rem;height:47.62%;width:83.04%;\"><font id=\"a\" style=\"font-family:MicrosoftYaHei;font-size:1.875rem;color:#999999;word-wrap:break-word;\">您的请求疑似攻击行为！</font><p style=\"font-family:MicrosoftYaHei;font-size:0.9rem;color:#999999;word-wrap:break-word;\"><span id=\"c\">事件ID：</span><span style=\"color:#499df2\" id=\"d\">False alarm ID</p></div></div><div style=\"height:15.625rem;width:100%;min-width:105rem;\"><div style=\"margin-left:18.4375rem;float:left;width:50rem\"><p id=\"b\" style=\"margin-top:10px\">如果您是站长，您可以前往WAF控制台进行误报屏蔽设置，让您的访问不再被拦截</p></div></div></body><script>function changeLanguageZh() {document.getElementById(\"title\").innerHTML = \"访问被拦截！\";document.getElementById(\"a\").innerHTML = \"您的请求疑似攻击行为！\";document.getElementById(\"b\").innerHTML = \"如果您是站长，您可以前往WAF控制台进行误报屏蔽设置，让您的访问不再被拦截\";document.getElementById(\"c\").innerHTML = \"事件ID：\";}function changeLanguageEn() {document.getElementById(\"title\").innerHTML = \"The access is blocked.\";document.getElementById(\"a\").innerHTML = \"Sorry, your request has been intercepted because it appears to be an attack.\";document.getElementById(\"b\").innerHTML = \"If you are the webmaster, configure related parameters on the WAF console to allow your requests.\";document.getElementById(\"c\").innerHTML = \"Event ID:\";}var language = navigator.language || navigator.browserLanguage;if (language.indexOf('zh') > -1) {changeLanguageZh();} else if (language.indexOf('en') > -1) {changeLanguageEn();} else{changeLanguageZh();}</script></html>\n",
      "\n"
     ]
    }
   ],
   "source": [
    "import requests\n",
    "\n",
    "url = 'http://aicoin.cn/'\n",
    "r = requests.get(url)\n",
    "r.encoding = 'utf-8'\n",
    "print(r.text)"
   ]
  },
  {
   "cell_type": "markdown",
   "metadata": {},
   "source": [
    "### 利用查看開發者工具觀察 Headers\n",
    "\n",
    "## Headers\n",
    "Accept: text/html,application/xhtml+xml,application/xml;q=0.9,image/webp,image/apng,*/*;q=0.8,application/signed-exchange;v=b3;q=0.9\n",
    "Accept-Encoding: gzip, deflate, br\n",
    "Accept-Language: zh-TW,zh;q=0.9,en-US;q=0.8,en;q=0.7\n",
    "Cache-Control: max-age=0\n",
    "Connection: keep-alive\n",
    "Cookie: _ga=GA1.2.2098153150.1596106174; _gid=GA1.2.1641251763.1596106175; HWWAFSESID=647a373e245c731707; HWWAFSESTIME=1596119343578; Hm_lvt_3c606e4c5bc6e9ff490f59ae4106beb4=1596106172,1596119430; Hm_lpvt_3c606e4c5bc6e9ff490f59ae4106beb4=1596119430; _pk_testcookie..undefined=1; _pk_ref.2.57ea=%5B%22%22%2C%22%22%2C1596119432%2C%22http%3A%2F%2Flocalhost%3A8888%2Fnotebooks%2FDay018_HW.ipynb%22%5D; _pk_id.2.57ea=81b7f476cf6fc879.1596106172.2.1596119432.1596119432.; _pk_ses.2.57ea=1; aicoin_session=eyJpdiI6IkNvaHVGNVhWSVd5Zk9XSlVsME0rZGc9PSIsInZhbHVlIjoiODlsXC9yTjZWZEFIbVNONklYejBqUWFlaTNydWhRUFJPb09rRkZuZGdhczhGdjNFbnhYZ1wvbXFNVTNPSXA4MzN4R2FYNkZBZmx6bWI3UEJiaXVGNVFCdz09IiwibWFjIjoiZjhhMGM0MzI0M2QwYTg2ODZiZThhMWQzYmZjYmEyZjU0OTZhODRlNDcwNzk2MWQ4MTExZGM1MjU5MTJhYzc1NCJ9\n",
    "Host: www.aicoin.cn\n",
    "If-None-Match: W/\"17f85b-3/ITUDUVqRYv71ZLPsNsmqpL93c\"\n",
    "Sec-Fetch-Dest: document\n",
    "Sec-Fetch-Mode: navigate\n",
    "Sec-Fetch-Site: same-origin\n",
    "Sec-Fetch-User: ?1\n",
    "Upgrade-Insecure-Requests: 1\n",
    "User-Agent: Mozilla/5.0 (Windows NT 10.0; Win64; x64) AppleWebKit/537.36 (KHTML, like Gecko) Chrome/84.0.4147.105 Safari/537.36"
   ]
  },
  {
   "cell_type": "code",
   "execution_count": 24,
   "metadata": {},
   "outputs": [
    {
     "name": "stdout",
     "output_type": "stream",
     "text": [
      "<!DOCTYPE html><html lang=\"zh\"><head><meta charSet=\"utf-8\" class=\"next-head\"/><meta name=\"viewport\" content=\"width=device-width, initial-scale=1\" class=\"jsx-1021118270 next-head\"/><meta name=\"description\" content=\"AICoin拥有全面而优质的区块链资源，提供实时行情、专业K线、数据分析、资产管理等专业服务，更高效地提供有价值的信息，提升资产管理的效率，成为行情数据分析的领跑者。\" class=\"jsx-1021118270 next-head\"/><link rel=\"canonical\" href=\"https://www.aicoin.cn?lang=zh\" class=\"jsx-1021118270 next-head\"/><title class=\"jsx-1021118270 next-head\">AICoin - 为价值 · 更高效</title><link rel=\"preload\" href=\"https://assets-www.aicoin.net.cn/beta-v20/_next/static/TCoN0VyfdfvbBFyP1WVBS/pages\n"
     ]
    }
   ],
   "source": [
    "import requests\n",
    "url = 'http://aicoin.cn/'\n",
    "\n",
    "headers = {\n",
    "    'Accept': 'text/html,application/xhtml+xml,application/xml;q=0.9,image/webp,image/apng,*/*;q=0.8,application/signed-exchange;v=b3;q=0.9',\n",
    "    'Accept-Encoding': 'gzip, deflate, br',\n",
    "    'Accept-Language': 'zh-TW,zh;q=0.9,en-US;q=0.8,en;q=0.7',\n",
    "    'Cache-Control': 'max-age=0',\n",
    "    'Connection': 'keep-alive',\n",
    "    'Cookie': '_ga=GA1.2.2098153150.1596106174; _gid=GA1.2.1641251763.1596106175; HWWAFSESID=647a373e245c731707; HWWAFSESTIME=1596119343578; Hm_lvt_3c606e4c5bc6e9ff490f59ae4106beb4=1596106172,1596119430; Hm_lpvt_3c606e4c5bc6e9ff490f59ae4106beb4=1596119430; _pk_testcookie..undefined=1; _pk_ref.2.57ea=%5B%22%22%2C%22%22%2C1596119432%2C%22http%3A%2F%2Flocalhost%3A8888%2Fnotebooks%2FDay018_HW.ipynb%22%5D; _pk_id.2.57ea=81b7f476cf6fc879.1596106172.2.1596119432.1596119432.; _pk_ses.2.57ea=1; aicoin_session=eyJpdiI6IkNvaHVGNVhWSVd5Zk9XSlVsME0rZGc9PSIsInZhbHVlIjoiODlsXC9yTjZWZEFIbVNONklYejBqUWFlaTNydWhRUFJPb09rRkZuZGdhczhGdjNFbnhYZ1wvbXFNVTNPSXA4MzN4R2FYNkZBZmx6bWI3UEJiaXVGNVFCdz09IiwibWFjIjoiZjhhMGM0MzI0M2QwYTg2ODZiZThhMWQzYmZjYmEyZjU0OTZhODRlNDcwNzk2MWQ4MTExZGM1MjU5MTJhYzc1NCJ9',\n",
    "    #'DNT': '1',\n",
    "    #'Host': 'www.aicoin.cn',\n",
    "    'If-None-Match': 'W/\"17f85b-3/ITUDUVqRYv71ZLPsNsmqpL93c\"',\n",
    "    'Sec-Fetch-Dest': 'document',\n",
    "    'Sec-Fetch-Mode': 'navigate',\n",
    "    'Sec-Fetch-Site': 'same-origin',\n",
    "    'Sec-Fetch-User': '?1',\n",
    "    'Upgrade-Insecure-Requests': '1',\n",
    "    'User-Agent': 'Mozilla/5.0 (Windows NT 10.0; Win64; x64) AppleWebKit/537.36 (KHTML, like Gecko) Chrome/84.0.4147.105 Safari/537.36'\n",
    "    }\n",
    "\n",
    "r = requests.get(url, headers=headers)\n",
    "print(r.text[0:600])"
   ]
  },
  {
   "cell_type": "code",
   "execution_count": null,
   "metadata": {},
   "outputs": [],
   "source": []
  },
  {
   "cell_type": "code",
   "execution_count": null,
   "metadata": {},
   "outputs": [],
   "source": []
  }
 ],
 "metadata": {
  "kernelspec": {
   "display_name": "Python 3",
   "language": "python",
   "name": "python3"
  },
  "language_info": {
   "codemirror_mode": {
    "name": "ipython",
    "version": 3
   },
   "file_extension": ".py",
   "mimetype": "text/x-python",
   "name": "python",
   "nbconvert_exporter": "python",
   "pygments_lexer": "ipython3",
   "version": "3.7.4"
  }
 },
 "nbformat": 4,
 "nbformat_minor": 2
}
