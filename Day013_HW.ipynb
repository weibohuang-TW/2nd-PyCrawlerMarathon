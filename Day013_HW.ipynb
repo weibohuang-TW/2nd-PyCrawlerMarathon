{
 "cells": [
  {
   "cell_type": "markdown",
   "metadata": {},
   "source": [
    "# PTT 網路爬蟲實作練習\n",
    "\n",
    "\n",
    "* 能夠利用 Request + BeatifulSour 撰寫爬蟲，並存放到合適的資料結構\n"
   ]
  },
  {
   "cell_type": "markdown",
   "metadata": {},
   "source": [
    "## 作業目標\n",
    "\n",
    "根據範例 ，完成以下問題：\n",
    "\n",
    "* ① 印出最新文章的「作者」「標題」「時間」\n",
    "* ② 印出第一頁所有文章的「作者」「標題」「時間」\n"
   ]
  },
  {
   "cell_type": "markdown",
   "metadata": {},
   "source": [
    "### ① 印出最新文章的「作者」「標題」「時間」"
   ]
  },
  {
   "cell_type": "code",
   "execution_count": 6,
   "metadata": {},
   "outputs": [
    {
     "data": {
      "text/plain": [
       "<div class=\"r-ent\">\n",
       "\t\t\t<div class=\"nrec\"><span class=\"hl f2\">2</span></div>\n",
       "\t\t\t<div class=\"title\">\n",
       "\t\t\t\n",
       "\t\t\t\t<a href=\"/bbs/watch/M.1594776829.A.61F.html\">[賣錶] 22 Design Studios 水泥機械錶</a>\n",
       "\t\t\t\n",
       "\t\t\t</div>\n",
       "\t\t\t<div class=\"meta\">\n",
       "\t\t\t\t<div class=\"author\">fenixII</div>\n",
       "\t\t\t\t<div class=\"article-menu\">\n",
       "\t\t\t\t\t\n",
       "\t\t\t\t\t<div class=\"trigger\">⋯</div>\n",
       "\t\t\t\t\t<div class=\"dropdown\">\n",
       "\t\t\t\t\t\t<div class=\"item\"><a href=\"/bbs/watch/search?q=thread%3A%5B%E8%B3%A3%E9%8C%B6%5D+22+Design+Studios+%E6%B0%B4%E6%B3%A5%E6%A9%9F%E6%A2%B0%E9%8C%B6\">搜尋同標題文章</a></div>\n",
       "\t\t\t\t\t\t\n",
       "\t\t\t\t\t\t<div class=\"item\"><a href=\"/bbs/watch/search?q=author%3AfenixII\">搜尋看板內 fenixII 的文章</a></div>\n",
       "\t\t\t\t\t\t\n",
       "\t\t\t\t\t</div>\n",
       "\t\t\t\t\t\n",
       "\t\t\t\t</div>\n",
       "\t\t\t\t<div class=\"date\"> 7/15</div>\n",
       "\t\t\t\t<div class=\"mark\"></div>\n",
       "\t\t\t</div>\n",
       "\t\t</div>"
      ]
     },
     "execution_count": 6,
     "metadata": {},
     "output_type": "execute_result"
    }
   ],
   "source": [
    "import requests\n",
    "from bs4 import BeautifulSoup\n",
    "\n",
    "url = 'https://www.ptt.cc/bbs/watch/index.html'\n",
    "r = requests.get(url)\n",
    "\n",
    "soup = BeautifulSoup(r.text, \"html5lib\")\n",
    "\n",
    "soup.find(class_=\"r-ent\")\n"
   ]
  },
  {
   "cell_type": "code",
   "execution_count": 7,
   "metadata": {},
   "outputs": [
    {
     "name": "stdout",
     "output_type": "stream",
     "text": [
      "title: [賣錶] 22 Design Studios 水泥機械錶\n",
      "author: fenixII\n",
      "date:  7/15\n"
     ]
    }
   ],
   "source": [
    "print(\"title:\", soup.find(class_=\"r-ent\").find(class_=\"title\").text.replace('\\t', '').replace('\\n', ''))\n",
    "print(\"author:\", soup.find(class_=\"r-ent\").find(class_=\"author\").text)\n",
    "print(\"date:\", soup.find(class_=\"r-ent\").find(class_=\"date\").text)"
   ]
  },
  {
   "cell_type": "markdown",
   "metadata": {},
   "source": [
    "### ② 印出第一頁所有文章的「作者」「標題」「時間」"
   ]
  },
  {
   "cell_type": "code",
   "execution_count": 9,
   "metadata": {},
   "outputs": [
    {
     "name": "stdout",
     "output_type": "stream",
     "text": [
      "1  7/15    fenixII \t [賣錶] 22 Design Studios 水泥機械錶\n",
      "2  7/15    hcshun \t [討論] 請問藍氣球，折扣？店家？\n",
      "3  7/15    cd928 \t [心得] ORIS X MOMOTARO\n",
      "4  7/15    templar0177 \t [買錶]徵ocean star600/天梭PRC200鋼錶帶\n",
      "5  7/15    chiya0219 \t [賣錶] 高雄 seiko sbbn031 \n",
      "6  7/15    LKM74 \t ［賣錶］浪琴LLD / Dan Henry 1962\n",
      "7  7/15    orz0857orz \t [買錶] Hamilton H64611535 石英版42mm\n",
      "8  7/15    ericyang \t [問題] 滑雪用錶\n",
      "9 10/10    tinga \t [公告] 錶板板規\n",
      "10  5/06    Inspire \t [公告] 錶板板規160506版\n",
      "11  5/07    Inspire \t [公告] 錶板板規160507_關於一般發文\n",
      "12  6/09    Inspire \t [公告] 錶板板規160609版_關於拍賣文相關\n",
      "13  6/07    Inspire \t [公告] 2018錶板板規更新\n"
     ]
    }
   ],
   "source": [
    "i = 0\n",
    "for d in soup.find_all(class_=\"r-ent\"):\n",
    "    i += 1\n",
    "    ti = d.find(class_=\"title\").text.replace('\\t', '').replace('\\n', '')\n",
    "    au = d.find(class_=\"author\").text\n",
    "    da = d.find(class_=\"date\").text\n",
    "    print(i, da, \"  \", au, \"\\t\", ti)"
   ]
  },
  {
   "cell_type": "markdown",
   "metadata": {},
   "source": [
    "### ③ 試著爬爬看其他版的文章"
   ]
  },
  {
   "cell_type": "code",
   "execution_count": 3,
   "metadata": {},
   "outputs": [
    {
     "name": "stdout",
     "output_type": "stream",
     "text": [
      "[賣錶] 22 Design Studios 水泥機械錶\n",
      "作者: fenixII ()\n",
      "[討論] 請問藍氣球，折扣？店家？\n",
      "作者: hcshun (木主)\n",
      "[心得] ORIS X MOMOTARO\n",
      "作者: cd928 (變成淘氣鬼吧!!)\n",
      "[買錶]徵ocean star600/天梭PRC200鋼錶帶\n",
      "作者: templar0177 (templar0177)\n",
      "[賣錶] 高雄 seiko sbbn031 \n",
      "作者: chiya0219 (chiya)\n",
      "［賣錶］浪琴LLD / Dan Henry 1962\n",
      "作者: LKM74 (LKM)\n",
      "[買錶] Hamilton H64611535 石英版42mm\n",
      "作者: orz0857orz (Nose)\n",
      "[問題] 滑雪用錶\n",
      "作者: ericyang (eric)\n",
      "[公告] 錶板板規\n",
      "作者: tinga (不要再批評啦～)\n",
      "[公告] 錶板板規160506版\n",
      "作者: Inspire (~日新又新~)\n",
      "[公告] 錶板板規160507_關於一般發文\n",
      "作者: Inspire (~日新又新~)\n",
      "[公告] 錶板板規160609版_關於拍賣文相關\n",
      "作者: Inspire (~日新又新~)\n",
      "[公告] 2018錶板板規更新\n",
      "作者: Inspire (~日新又新~)\n"
     ]
    }
   ],
   "source": [
    "import requests\n",
    "from bs4 import BeautifulSoup\n",
    "\n",
    "url = 'https://www.ptt.cc/bbs/watch/index.html'\n",
    "r = requests.get(url)\n",
    "\n",
    "soup = BeautifulSoup(r.text, \"html5lib\")\n",
    "\n",
    "for d in soup.find_all(class_=\"title\"):\n",
    "    print(d.text.replace('\\t', '').replace('\\n', ''))\n",
    "    try:\n",
    "        r = BeautifulSoup(requests.get('https://www.ptt.cc'+d.find('a')['href']).text, \"html5lib\")\n",
    "        print('作者: ' + r.find(class_='article-meta-value').text)\n",
    "    except:\n",
    "        continue\n"
   ]
  },
  {
   "cell_type": "code",
   "execution_count": 16,
   "metadata": {},
   "outputs": [],
   "source": [
    "def board_list(board):\n",
    "    url = 'https://www.ptt.cc/bbs/{}/index.html'.format(board)\n",
    "    r = requests.get(url)\n",
    "    soup = BeautifulSoup(r.text, \"html5lib\")\n",
    "    no = 0\n",
    "    for d in soup.find_all(class_=\"r-ent\"):\n",
    "        no += 1\n",
    "        ti = d.find(class_=\"title\").text.replace('\\t', '').replace('\\n', '')\n",
    "        au = d.find(class_=\"author\").text\n",
    "        da = d.find(class_=\"date\").text\n",
    "        print(no, \"\\t\", da, \"\\t\", au, \"\\t\", ti)"
   ]
  },
  {
   "cell_type": "code",
   "execution_count": 17,
   "metadata": {},
   "outputs": [
    {
     "name": "stdout",
     "output_type": "stream",
     "text": [
      "1 \t  7/15 \t fenixII \t [賣錶] 22 Design Studios 水泥機械錶\n",
      "2 \t  7/15 \t hcshun \t [討論] 請問藍氣球，折扣？店家？\n",
      "3 \t  7/15 \t cd928 \t [心得] ORIS X MOMOTARO\n",
      "4 \t  7/15 \t templar0177 \t [買錶]徵ocean star600/天梭PRC200鋼錶帶\n",
      "5 \t  7/15 \t chiya0219 \t [賣錶] 高雄 seiko sbbn031 \n",
      "6 \t  7/15 \t LKM74 \t ［賣錶］浪琴LLD / Dan Henry 1962\n",
      "7 \t  7/15 \t orz0857orz \t [買錶] Hamilton H64611535 石英版42mm\n",
      "8 \t  7/15 \t ericyang \t [問題] 滑雪用錶\n",
      "9 \t 10/10 \t tinga \t [公告] 錶板板規\n",
      "10 \t  5/06 \t Inspire \t [公告] 錶板板規160506版\n",
      "11 \t  5/07 \t Inspire \t [公告] 錶板板規160507_關於一般發文\n",
      "12 \t  6/09 \t Inspire \t [公告] 錶板板規160609版_關於拍賣文相關\n",
      "13 \t  6/07 \t Inspire \t [公告] 2018錶板板規更新\n"
     ]
    }
   ],
   "source": [
    "board_list(\"watch\")"
   ]
  },
  {
   "cell_type": "code",
   "execution_count": 21,
   "metadata": {},
   "outputs": [
    {
     "name": "stdout",
     "output_type": "stream",
     "text": [
      "1 \t  7/15 \t S9125126 \t Re: [新聞] 意外！國安基金決議繼續護盤\n",
      "2 \t  7/15 \t weiber82 \t Re: [新聞] 合一吞第4根跌停板 上櫃生技指數重摔逾3%\n",
      "3 \t  7/15 \t loaves \t [新聞] 手搖杯含塑有救了 華紙無塑「益利咖」全\n",
      "4 \t  7/15 \t utaceric \t Re: [新聞] 合一吞第4根跌停板 上櫃生技指數重摔逾3%\n",
      "5 \t  7/15 \t CavendishJr \t [新聞] TikTok違法蒐集移轉用戶個資 韓國開罰50\n",
      "6 \t  7/15 \t b89632147 \t [請益] 國安基金護盤股疑問\n",
      "7 \t  7/15 \t oiyuz \t Re: [新聞] 合一吞第4根跌停板 上櫃生技指數重摔\n",
      "8 \t  7/15 \t jason850713 \t [標的] 合一迷你戶\n",
      "9 \t  7/15 \t koko147 \t Re: [請益] 國安基金護盤股疑問\n",
      "10 \t  7/15 \t koflin \t [新聞] 生技中心攜安肽生醫 搶攻日本快篩市場\n",
      "11 \t  7/15 \t Aurorra \t [新聞] 楊育民攜手林榮錦 晟德轉投資案再獲重大1\n",
      "12 \t  7/15 \t - \t (本文已被刪除) [accprote]\n",
      "13 \t  7/15 \t I234567890 \t [請益] 合一賺的錢會納入所得稅嗎？\n",
      "14 \t  7/15 \t Tosca \t Re: [心得] 股市長多.萬點是地板.\n",
      "15 \t  7/15 \t WSWEN \t Re: [標的] 9103 美德醫療-DR 多\n",
      "16 \t  7/15 \t meichiang \t [請益] 大家交易都用幾個螢幕？\n",
      "17 \t  1/25 \t IanLi \t [公告] 精華區導覽Q&A\n",
      "18 \t 11/03 \t eyespot \t [公告] Stock 板規V2.6             (2019/06/20)\n",
      "19 \t  7/09 \t BreezeCat \t [公告] 提醒板友多注意板規1-4 [請益]分類\n",
      "20 \t  7/15 \t vendan5566 \t [閒聊] 2020/07/15 盤後閒聊\n"
     ]
    }
   ],
   "source": [
    "board_list(\"stock\")"
   ]
  },
  {
   "cell_type": "code",
   "execution_count": 22,
   "metadata": {},
   "outputs": [
    {
     "name": "stdout",
     "output_type": "stream",
     "text": [
      "1 \t  7/15 \t - \t (本文已被刪除) [sheng612]\n",
      "2 \t  7/15 \t tachikoma \t Re: [討論] Altima VS CAMRY VS LEXUS IS\n",
      "3 \t  7/15 \t winner99 \t [問題] 有一看是獅子大開口還判過失傷害嗎?\n",
      "4 \t  7/15 \t isaac410 \t [問題] 駕訓班手排換檔疑問\n",
      "5 \t  7/15 \t nogoodlaugh \t [心得] Levante 和 GLC 43 簡易開箱\n",
      "6 \t  7/15 \t pupu60388 \t [問題] 自撞後保險問題\n",
      "7 \t  7/15 \t gg22098 \t [問題] 收到民眾檢舉罰單\n",
      "8 \t  7/15 \t nevergone56 \t [問題] 車子被鄰居小擦傷\n",
      "9 \t  7/15 \t caeasonfb \t [問題] 買了鋁罐會改變自己的發言立場嗎?\n",
      "10 \t  7/15 \t RV \t Re: [討論] 新開Line群收人啦！！！\n",
      "11 \t  7/15 \t joseph0318 \t [問題] 馬2亮引擎燈\n",
      "12 \t  7/15 \t psw \t [討論] 為什麼最近沒小貨卡了\n",
      "13 \t  7/15 \t nerdz \t [問車] Tesla 下坡再生充電問題\n",
      "14 \t  7/15 \t cjol \t Fw: [新聞] 豐田採用大陸電磁鋼板 質量追趕日企\n",
      "15 \t  7/15 \t Dependence2 \t [問車] 請問這台是什麼車？\n",
      "16 \t  1/09 \t MunezSu \t [公告] Car板板規 2020/05/04 板規修正\n",
      "17 \t  4/09 \t z85917131 \t Re: [整理] 百萬左右熱門新車主被動安全配備(SRS/ESP/VSC..)整理\n",
      "18 \t 10/01 \t MunezSu \t [活動連署] saitou68201上任第二位版主\n",
      "19 \t  7/04 \t MunezSu \t [公告] 板規修正建議/系統錯誤/道歉文\n"
     ]
    }
   ],
   "source": [
    "board_list(\"car\")"
   ]
  },
  {
   "cell_type": "code",
   "execution_count": 23,
   "metadata": {},
   "outputs": [
    {
     "name": "stdout",
     "output_type": "stream",
     "text": [
      "1 \t  7/15 \t JunDorisJun \t [無雷]  屍速列車2無劇透心得\n",
      "2 \t  7/15 \t coolpc5566 \t [普雷] 打噴嚏\n",
      "3 \t  7/15 \t caeasonfb \t [討論] 《刀》是不是被低估的武俠電影?\n",
      "4 \t  7/15 \t MA40433 \t [新聞] 美大法官送醫 疑新冠肺炎感染\n",
      "5 \t  7/15 \t malio \t [討論] 都快半年沒看電影了\n",
      "6 \t  6/04 \t ckshchen \t [公告] 板規 2020/03/01 (增加14.1)\n",
      "7 \t  8/15 \t hhwang \t [公告] 板規新增每日發文上限規定\n",
      "8 \t  1/11 \t ckshchen \t [公告] 關於跑步哥\n",
      "9 \t  5/13 \t lgng66133 \t [情報] 近期院線預計重映片單\n",
      "10 \t  7/06 \t [馬路探子] \t [movie] 看板 選情報導\n"
     ]
    }
   ],
   "source": [
    "board_list(\"movie\")"
   ]
  },
  {
   "cell_type": "code",
   "execution_count": null,
   "metadata": {},
   "outputs": [],
   "source": []
  }
 ],
 "metadata": {
  "kernelspec": {
   "display_name": "Python 3",
   "language": "python",
   "name": "python3"
  },
  "language_info": {
   "codemirror_mode": {
    "name": "ipython",
    "version": 3
   },
   "file_extension": ".py",
   "mimetype": "text/x-python",
   "name": "python",
   "nbconvert_exporter": "python",
   "pygments_lexer": "ipython3",
   "version": "3.7.4"
  }
 },
 "nbformat": 4,
 "nbformat_minor": 2
}
