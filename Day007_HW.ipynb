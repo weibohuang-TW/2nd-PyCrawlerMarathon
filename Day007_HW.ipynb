{
 "cells": [
  {
   "cell_type": "markdown",
   "metadata": {},
   "source": [
    "# HTTP 靜態網頁架構說明\n",
    "\n",
    "* 認識靜態網頁的溝通架構與運作原理\n",
    "* HTML、CSS、JavaScript 在網頁中扮演的角色\n",
    "* 網頁中定位資料的方法"
   ]
  },
  {
   "cell_type": "markdown",
   "metadata": {},
   "source": [
    "## 作業目標\n",
    "\n",
    "1. （簡答題）請問目前提到的這種基於 HTTP 一來一回的網頁傳輸方式，有哪些缺點及問題？\n",
    "2. （簡答題）網頁中使用的 JavaScipt 程式語言，跟我們一般使用的 Python 在執行上有什麼不同。\n"
   ]
  },
  {
   "cell_type": "markdown",
   "metadata": {},
   "source": [
    "### 1.（簡答題）請問目前提到的這種基於 HTTP 一來一回的網頁傳輸方式，有哪些缺點及問題？"
   ]
  },
  {
   "cell_type": "code",
   "execution_count": 2,
   "metadata": {},
   "outputs": [
    {
     "data": {
      "text/plain": [
       "'\\nHTTP的運作方式\\n\\n1. 客戶端的瀏覽器首先要通過網絡與伺服器建立連接，該連接是通過TCP來完成的，一般TCP連接的埠號是80。 建立連接後，客戶機發送一個請求給伺服器，請求方式的格式為：統一資源標識符(URL)、協議版本號，後邊是MIME信息包括請求修飾符、客戶機信息和許可內容。\\n\\n2. 伺服器接到請求後，給予相應的響應信息，其格式為一個狀態行，包括信息的協議版本號、一個成功或錯誤的代碼，後邊是MIME信息包括伺服器信息、實體信息和可能的內容。\\n\\nHTTP的不足：\\n通信使用明文，內容可能會被竊聽；\\n不驗證通信方的身份，因此有可能遭遇偽裝；\\n無法證明報文的完整性，有可能已遭篡改；\\n\\nHTTP協議中的請求和響應不會對通信方進行確認\\n任何人都可發起請求\\n查明對手的證書\\n\\n無法證明報文完整性，可能已遭篡改\\n完整性是指信息的準確度。如果無法證明其完整性，通常也就意味著無法判斷信息是否準確；\\n接收到的內容可能有誤\\n\\nHTTPS則比較安全，因為有進行加密\\n\\n'"
      ]
     },
     "execution_count": 2,
     "metadata": {},
     "output_type": "execute_result"
    }
   ],
   "source": [
    "'''\n",
    "HTTP的運作方式\n",
    "\n",
    "1. 客戶端的瀏覽器首先要通過網絡與伺服器建立連接，該連接是通過TCP來完成的，一般TCP連接的埠號是80。 建立連接後，客戶機發送一個請求給伺服器，請求方式的格式為：統一資源標識符(URL)、協議版本號，後邊是MIME信息包括請求修飾符、客戶機信息和許可內容。\n",
    "\n",
    "2. 伺服器接到請求後，給予相應的響應信息，其格式為一個狀態行，包括信息的協議版本號、一個成功或錯誤的代碼，後邊是MIME信息包括伺服器信息、實體信息和可能的內容。\n",
    "\n",
    "HTTP的不足：\n",
    "通信使用明文，內容可能會被竊聽；\n",
    "不驗證通信方的身份，因此有可能遭遇偽裝；\n",
    "無法證明報文的完整性，有可能已遭篡改；\n",
    "\n",
    "HTTP協議中的請求和響應不會對通信方進行確認\n",
    "任何人都可發起請求\n",
    "查明對手的證書\n",
    "\n",
    "無法證明報文完整性，可能已遭篡改\n",
    "完整性是指信息的準確度。如果無法證明其完整性，通常也就意味著無法判斷信息是否準確；\n",
    "接收到的內容可能有誤\n",
    "\n",
    "HTTPS則比較安全，因為有進行加密\n",
    "\n",
    "'''"
   ]
  },
  {
   "cell_type": "markdown",
   "metadata": {},
   "source": [
    "### 2. （簡答題）網頁中使用的 JavaScipt 程式語言，跟我們一般使用的 Python 在執行上有什麼不同。"
   ]
  },
  {
   "cell_type": "code",
   "execution_count": 1,
   "metadata": {},
   "outputs": [
    {
     "data": {
      "text/plain": [
       "'\\n學習性差異：python > Javascript\\n    Python的得分遠遠優於JavaScript，它的設計目標是令初學者更容易學習，並使用最簡單的變化和功能。 JavaScript充滿了類定義(Class definition)等複雜性。\\n可擴展性差異：python = Javascript\\n    Node.js是專為增加擴展性而設計的，它支持異步編程(Asynchronous Programming)。 雖然Python不支持像JavaScript這樣的異步編程，它卻支持協同常式(Coroutines)，而這些協同常式又支持異步編程。因此，儘管Python體系結構不像Node.js那樣可擴展，但它確實具有實現擴展性的工具，而instagram和Youtube就是使用Python並大規模運營的應用程序熱門示例。\\n多功能性差異：python(後) vs Javascript(前+後)\\n    JavaScript具有作為前端語言和後端語言的優點。 Python是一種僅限於服務器端的後端語言。\\n速度差異：python < Javascript\\n    JavaScript被廣泛認為是兩者中較快的語言，它使用Chrome的V8建構，而V8是最快的引擎之一，因此Node.js是構建實時(real-time)應用程序的首選語言。\\n'"
      ]
     },
     "execution_count": 1,
     "metadata": {},
     "output_type": "execute_result"
    }
   ],
   "source": [
    "'''\n",
    "學習性差異：python > Javascript\n",
    "    Python的得分遠遠優於JavaScript，它的設計目標是令初學者更容易學習，並使用最簡單的變化和功能。 JavaScript充滿了類定義(Class definition)等複雜性。\n",
    "可擴展性差異：python = Javascript\n",
    "    Node.js是專為增加擴展性而設計的，它支持異步編程(Asynchronous Programming)。 雖然Python不支持像JavaScript這樣的異步編程，它卻支持協同常式(Coroutines)，而這些協同常式又支持異步編程。因此，儘管Python體系結構不像Node.js那樣可擴展，但它確實具有實現擴展性的工具，而instagram和Youtube就是使用Python並大規模運營的應用程序熱門示例。\n",
    "多功能性差異：python(後) vs Javascript(前+後)\n",
    "    JavaScript具有作為前端語言和後端語言的優點。 Python是一種僅限於服務器端的後端語言。\n",
    "速度差異：python < Javascript\n",
    "    JavaScript被廣泛認為是兩者中較快的語言，它使用Chrome的V8建構，而V8是最快的引擎之一，因此Node.js是構建實時(real-time)應用程序的首選語言。\n",
    "'''"
   ]
  },
  {
   "cell_type": "code",
   "execution_count": null,
   "metadata": {},
   "outputs": [],
   "source": []
  }
 ],
 "metadata": {
  "kernelspec": {
   "display_name": "Python 3",
   "language": "python",
   "name": "python3"
  },
  "language_info": {
   "codemirror_mode": {
    "name": "ipython",
    "version": 3
   },
   "file_extension": ".py",
   "mimetype": "text/x-python",
   "name": "python",
   "nbconvert_exporter": "python",
   "pygments_lexer": "ipython3",
   "version": "3.7.4"
  }
 },
 "nbformat": 4,
 "nbformat_minor": 2
}
