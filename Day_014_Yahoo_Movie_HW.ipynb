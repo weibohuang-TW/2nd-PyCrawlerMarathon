{
 "cells": [
  {
   "cell_type": "markdown",
   "metadata": {},
   "source": [
    "# YAHOO電影爬蟲練習\n",
    "## 練習爬取電影放映資訊。必須逐步獲取電影的代號、放映地區、放映日期後，再送出查詢給伺服器。"
   ]
  },
  {
   "cell_type": "code",
   "execution_count": 1,
   "metadata": {},
   "outputs": [],
   "source": [
    "import requests\n",
    "import re\n",
    "from bs4 import BeautifulSoup"
   ]
  },
  {
   "cell_type": "markdown",
   "metadata": {},
   "source": [
    "### 先搜尋全部的電影代號(ID)資訊"
   ]
  },
  {
   "cell_type": "code",
   "execution_count": 2,
   "metadata": {},
   "outputs": [
    {
     "name": "stdout",
     "output_type": "stream",
     "text": [
      "Movie: 《新天堂樂園》30週年數位修復版, ID: 10825\n",
      "Movie: 淒厲人僧前傳, ID: 10822\n",
      "Movie: 盧貝松之聖女貞德： 數位修復版, ID: 10815\n",
      "Movie: 野雀之詩, ID: 10808\n",
      "Movie: 曼哈頓戀舞曲, ID: 10802\n",
      "Movie: 咒冥曲, ID: 10800\n",
      "Movie: 戀夏時光, ID: 10797\n",
      "Movie: 星之彩, ID: 10793\n",
      "Movie: 屍人診所, ID: 10792\n",
      "Movie: 廢宅人生, ID: 10771\n",
      "Movie: 盧米埃：光與影的故事, ID: 10770\n",
      "Movie: 致命窺弒, ID: 10753\n",
      "Movie: 魔王的女兒, ID: 10730\n",
      "Movie: 拂曉, ID: 10711\n",
      "Movie: 解凍屍篇, ID: 7703\n",
      "Movie: 翻供, ID: 10788\n",
      "Movie: 小路與我的秘密驛站, ID: 10810\n",
      "Movie: 不丹是教室, ID: 10789\n",
      "Movie: 藍色恐懼：數位修復版, ID: 10775\n",
      "Movie: 甜心大叔, ID: 10769\n",
      "Movie: 誰偷了班克西？, ID: 10768\n",
      "Movie: 綠光 經典數位修復, ID: 10686\n",
      "Movie: 海星, ID: 10303\n",
      "Movie: 屍速列車：感染半島, ID: 10608\n",
      "Movie: 打噴嚏, ID: 5350\n",
      "Movie: 魔鬼剋星(1984), ID: 10803\n",
      "Movie: 里斯本的故事 25周年4K修復版, ID: 10779\n",
      "Movie: 推拿, ID: 10773\n",
      "Movie: PJ 哈維：戰地拾音錄, ID: 10772\n",
      "Movie: 疤面教父, ID: 10751\n",
      "Movie: 假面病棟, ID: 10749\n",
      "Movie: 沉默的羔羊, ID: 10745\n",
      "Movie: 角落小夥伴電影版：魔法繪本裡的新朋友, ID: 10647\n",
      "Movie: 慾火烈愛, ID: 10576\n",
      "Movie: 祕密花園, ID: 10524\n",
      "Movie: 賭博默示錄：最終遊戲, ID: 10791\n",
      "Movie: 人皮咒, ID: 10764\n",
      "Movie: 死因無可疑, ID: 10755\n",
      "Movie: 戰爭中的鬼故事, ID: 10752\n",
      "Movie: 犬犬風塵, ID: 10744\n",
      "Movie: 鬼侍女, ID: 10735\n",
      "Movie: 破處, ID: 10641\n",
      "Movie: 被遺忘的人生, ID: 10592\n",
      "Movie: 慾望街車, ID: 10758\n",
      "Movie: 萬花嬉春, ID: 10748\n",
      "Movie: 72小時前哨救援, ID: 10729\n",
      "Movie: 捕魔網, ID: 10727\n",
      "Movie: 福島50英雄, ID: 10726\n",
      "Movie: 阿基拉, ID: 10710\n",
      "Movie: 驚夢49天, ID: 10696\n",
      "Movie: 天后小助理, ID: 10559\n",
      "Movie: 明信片謀殺案, ID: 10724\n",
      "Movie: 銀翼殺手最終版, ID: 10732\n",
      "Movie: 深海擴散, ID: 10697\n",
      "Movie: 親愛陌生人, ID: 10643\n",
      "Movie: 諜影殺機, ID: 10742\n",
      "Movie: 愛美獎行動, ID: 10600\n",
      "Movie: 關不住的誘惑, ID: 10741\n",
      "Movie: 雙面遊戲, ID: 10642\n",
      "Movie: 謊畫情人, ID: 10577\n",
      "Movie: 1/2的魔法, ID: 10505\n",
      "Movie: 來自深淵 深沉靈魂的黎明  4DX/MX4D, ID: 10658\n",
      "Movie: 末代皇帝, ID: 10640\n",
      "Movie: 老娘就要這麼活, ID: 10611\n",
      "Movie: 觸不到的愛, ID: 10598\n",
      "Movie: 金都, ID: 10530\n",
      "Movie: 壞教育, ID: 10617\n",
      "Movie: 數碼寶貝 LAST EVOLUTION 絆, ID: 10572\n",
      "Movie: 美好拾光公司, ID: 10541\n",
      "Movie: 浪人47愁錢中, ID: 10596\n",
      "Movie: 鑰命監獄, ID: 10579\n",
      "Movie: 居禮夫人：放射永恆, ID: 10537\n",
      "Movie: 謝謝你, ID: 10571\n",
      "Movie: 搞鬼, ID: 10570\n",
      "Movie: 間諜速成班, ID: 10538\n",
      "Movie: 魔髮精靈唱遊世界, ID: 10466\n",
      "Movie: 迷雁返家路, ID: 10533\n",
      "Movie: 最後晚安曲, ID: 10499\n",
      "Movie: 血衛, ID: 10469\n",
      "Movie: 女鬼橋, ID: 10437\n",
      "Movie: 猛禽小隊：小丑女大解放, ID: 10268\n",
      "Movie: 紅鞋公主與七矮人, ID: 10417\n",
      "Movie: 肥龍過江, ID: 10449\n",
      "Movie: 杜立德, ID: 10316\n",
      "Movie: 變身特務, ID: 9008\n",
      "Movie: 巧虎電影：英雄遊樂園, ID: 10429\n",
      "Movie: 燃燒女子的畫像, ID: 10069\n",
      "Movie: 花生醬獵鷹的願望, ID: 10340\n",
      "Movie: 冰雪奇緣2, ID: 9597\n",
      "Movie: 鬼船瑪麗號, ID: 10265\n",
      "Movie: 海獸之子, ID: 10263\n",
      "Movie: 在時間停止的世界相遇, ID: 10259\n",
      "Movie: AI終結戰, ID: 10057\n",
      "Movie: 沒有煙硝的愛情, ID: 9478\n",
      "Movie: 鎖命危機, ID: 9251\n",
      "Movie: 新橋戀人, ID: 9089\n",
      "Movie: 黑執事 劇場版－豪華客船編, ID: 6583\n",
      "Movie: 一首搖滾上月球, ID: 4887\n",
      "Movie: 錢不夠用2, ID: 3026\n",
      "Movie: 詭絲., ID: 1744\n"
     ]
    }
   ],
   "source": [
    "# 查看目前上映那些電影，並擷取出其ID資訊\n",
    "url = 'https://movies.yahoo.com.tw/'\n",
    "resp = requests.get(url)\n",
    "resp.encoding = 'utf-8'\n",
    "\n",
    "soup = BeautifulSoup(resp.text, 'lxml')\n",
    "html = soup.find(\"select\", attrs={'name':'movie_id'})\n",
    "movie_item = html.find_all(\"option\", attrs={'data-name':re.compile('.*')})\n",
    "\n",
    "for p in movie_item:\n",
    "    print(\"Movie: %s, ID: %s\" % (p[\"data-name\"], p[\"value\"]))"
   ]
  },
  {
   "cell_type": "markdown",
   "metadata": {},
   "source": [
    "### 指定你有興趣的電影其ID，然後查詢其放映地區資訊。"
   ]
  },
  {
   "cell_type": "code",
   "execution_count": 4,
   "metadata": {},
   "outputs": [],
   "source": [
    "# 參考前一個步驟中擷取到的ID資訊，並指定ID\n",
    "movie_id = 10617"
   ]
  },
  {
   "cell_type": "code",
   "execution_count": 5,
   "metadata": {},
   "outputs": [
    {
     "name": "stdout",
     "output_type": "stream",
     "text": [
      "放映地區: 台北二輪, 代號(area_id): 3\n",
      "放映地區: 台中, 代號(area_id): 2\n"
     ]
    }
   ],
   "source": [
    "url = 'https://movies.yahoo.com.tw/api/v1/areas_by_movie_theater'\n",
    "payload = {'movie_id':str(movie_id)}\n",
    "\n",
    "# 模擬一個header\n",
    "headers = {\n",
    "    'authority': 'movies.yahoo.com.tw',\n",
    "    'method': 'GET',\n",
    "    'path': '/api/v1/areas_by_movie_theater?movie_id=' + str(movie_id),\n",
    "    'scheme': 'https',\n",
    "    'accept': 'application/json, text/javascript, */*; q=0.01',\n",
    "    'accept-encoding': 'gzip, deflate, br',\n",
    "    'accept-language': 'zh-TW,zh;q=0.9,en-US;q=0.8,en;q=0.7,zh-CN;q=0.6',\n",
    "    'cookie': 'rxx=9s3x2fws06.1g16irnc&v=1; _ga=GA1.3.2056742944.1551651301; GUC=AQEBAQFczFpdm0IfmwSB&s=AQAAACoo4N5D&g=XMsVBw; BX=4hkdk1decm57t&b=3&s=mr; _ga=GA1.4.2056742944.1551651301; nexagesuid=82843256dd234e8e91aa73f2062f8218; browsed_movie=eyJpdiI6IlJXWWtiSWJaZlNGK2MxQnhscnVUYWc9PSIsInZhbHVlIjoiMXRhMmVHRXRIeUNjc1RBWDJzdGYwbnlIQURmWGsrcjJSMzhkbkcraDNJVUNIZEZsbzU3amlFcVZ1NzlmazJrTGpoMjVrbHk1YmpoRENXaHZTOUw1TmI2ZTZVWHdOejZQZm16RmVuMWlHTTJLaTZLVFZZVkFOMDlTd1wvSGltcytJIiwibWFjIjoiZWQ2ZjA4MmVjZmZlYjlmNjJmYmY2NGMyMDI0Njc0NWViYjVkOWE2NDg0N2RhODMxZjBjZDhiMmJhZTc2MDZhYiJ9; avi=eyJpdiI6Im1NeWFJRlVRWDR1endEcGRGUGJUbVE9PSIsInZhbHVlIjoickRpU3JuUytmcGl6cjF5OW0rNU9iZz09IiwibWFjIjoiY2VmY2NkNzZmM2NhNjY5YzlkOTcyNjE5OGEyMzU0NWYxOTdmMDRkMDY3OWNmMmZjOTMxYjc5MjI5N2Q5NGE5MiJ9; cmp=t=1559391030&j=0; _gid=GA1.4.779543841.1559391031; XSRF-TOKEN=eyJpdiI6IkhpS2hGcDRQaHlmWUJmaHdSS2Q2bHc9PSIsInZhbHVlIjoiOUVoNFk4OHI1UUZmUWRtYXhza0MyWjJSTlhlZ3RnT0VGeVJPN2JuczVRMGRFdWt2OUlsamVKeHRobFwvcHBGM0dhU3VyMXNGTHlsb2dVM2l0U1hpUGxBPT0iLCJtYWMiOiJkZWU4YzJhNjAxMTY3MzE4Y2ExNWIxYmE1ZjE1YWZlZTlhOTcyYjc4M2RlZGY4ZWNjZDYyMTA2NGYwZGViMzc2In0%3D; m_s=eyJpdiI6InpsZHZ2Tk1BZ0dxaHhETml1RjBnUXc9PSIsInZhbHVlIjoiSkNGeHUranRoXC85bDFiaDhySTJqNkJRcWdjWUxjeVRJSHVYZ1wvd2d4bWJZUTUrSHVDM0lUcW5KNHdETFZ4T1lieU81OUhzc1VoUXhZcWk0UDZSQXVFdz09IiwibWFjIjoiYmJkMDJkMDhlODIzMzcyMWY4M2NmYWNjNGVlOWRjMDIwZmVmNzAyMjE3Yzg3ZGY3ODBkZWEzZTI4MTI5ZWNmOSJ9; _gat=1; nexagesd=10',\n",
    "    'dnt': '1',\n",
    "    'mv-authorization': '21835b082e15b91a69b3851eec7b31b82ce82afb',\n",
    "    'referer': 'https://movies.yahoo.com.tw/',\n",
    "    'user-agent': 'Mozilla/5.0 (Windows NT 10.0; Win64; x64) AppleWebKit/537.36 (KHTML, like Gecko) Chrome/74.0.3729.169 Safari/537.36',\n",
    "    'x-requested-with': 'XMLHttpRequest',\n",
    "}\n",
    "    \n",
    "resp = requests.get(url, params=payload, headers=headers)\n",
    "#print(resp.json())  # 若有需要，列印出json原始碼\n",
    "\n",
    "# 這裡回傳的格式是JSON格式的資料，要解析JSON擷取資料\n",
    "for p in resp.json():\n",
    "    print('放映地區: {0}, 代號(area_id): {1}'.format(p['title'], p['area_id']))"
   ]
  },
  {
   "cell_type": "markdown",
   "metadata": {},
   "source": [
    "### 指定你想要觀看的放映地區，查詢有上映電影的場次日期"
   ]
  },
  {
   "cell_type": "code",
   "execution_count": 6,
   "metadata": {},
   "outputs": [],
   "source": [
    "# 指定放映地區\n",
    "area_id = 3"
   ]
  },
  {
   "cell_type": "code",
   "execution_count": 7,
   "metadata": {},
   "outputs": [
    {
     "name": "stdout",
     "output_type": "stream",
     "text": [
      "七月 24\n",
      "七月 25\n",
      "七月 26\n",
      "七月 27\n",
      "七月 28\n"
     ]
    }
   ],
   "source": [
    "# 向網站發送請求\n",
    "url = 'https://movies.yahoo.com.tw/movietime_result.html'\n",
    "payload = {'movie_id':str(movie_id), 'area_id':str(area_id)}\n",
    "resp = requests.get(url, params=payload)\n",
    "resp.encoding = 'utf-8'\n",
    "\n",
    "soup = BeautifulSoup(resp.text, 'lxml')\n",
    "movie_date = soup.find_all(\"label\", attrs={'for':re.compile(\"date_[\\d]\")})\n",
    "\n",
    "# 列印播放日期\n",
    "for date in movie_date:\n",
    "    print(\"%s %s\" % (date.p.string, date.h3.string))"
   ]
  },
  {
   "cell_type": "markdown",
   "metadata": {},
   "source": [
    "### 最後指定觀看的日期，查詢並列印出放映的電影院、放映類型(數位、3D、IMAX 3D...)、放映時間等資訊。"
   ]
  },
  {
   "cell_type": "code",
   "execution_count": 8,
   "metadata": {},
   "outputs": [],
   "source": [
    "# 選定要觀看的日期\n",
    "date = \"2020-07-24\""
   ]
  },
  {
   "cell_type": "code",
   "execution_count": 9,
   "metadata": {},
   "outputs": [],
   "source": [
    "# 向網站發送請求，獲取上映的電影院及時間資訊\n",
    "url = \"https://movies.yahoo.com.tw/ajax/pc/get_schedule_by_movie\"\n",
    "payload = {'movie_id':str(movie_id),\n",
    "           'date':date,\n",
    "           'area_id':str(area_id),\n",
    "           'theater_id':'',\n",
    "           'datetime':'',\n",
    "           'movie_type_id':''}\n",
    "\n",
    "resp = requests.get(url, params=payload)\n",
    "#print(resp.json()['view'])  # 若有需要，列印出json原始碼\n",
    "\n",
    "soup = BeautifulSoup(resp.json()['view'], 'lxml')\n",
    "html = soup.find_all(\"ul\", attrs={'data-theater_name':re.compile(\".*\")})"
   ]
  },
  {
   "cell_type": "code",
   "execution_count": 10,
   "metadata": {},
   "outputs": [
    {
     "name": "stdout",
     "output_type": "stream",
     "text": [
      "<div class=\"pc-movie-schedule-form\">\n",
      "    <div class=\"area_timebox\">\n",
      "   <div class=\"area_title\">台北二輪</div>\n",
      "      <ul id=\"theater_id_17\" class=\"area_time _c jq_area_time\" data-theater_name=\"景美佳佳戲院\" data-theater_url=\"\" data-theater_schedules=\"https://movies.yahoo.com.tw/theater_result.html/id=17\" >\n",
      "       <li class=\"adds\">\n",
      "           <a href=\"https://movies.yahoo.com.tw/theater_result.html/id=17\">景美佳佳戲院</a>\n",
      "           <span>02-29330333</span>\n",
      "       </li>\n",
      "                         <li class=\"taps\">\n",
      "                <span class=\"tapR\">數位</span>                           </li>\n",
      "           <li class=\"time _c\">\n",
      "               <div class=\"input_picker jq_input_picker\">\n",
      "                                                   <input type=\"radio\" name=\"schedule_list\" id=\"73841847\" class=\"gabtn\"\n",
      "                        value=\"2020-07-24 11:00:00\" data-movie_type=\"數位\"\n",
      "                        data-movie_title=\"壞教育\"\n",
      "                        data-movie_date=\"07.24\"\n",
      "                        data-movie_time=\"11:00\"\n",
      "                        data-ga=\"['電影頁_時刻表', '電影頁_時刻表_場次', '壞教育']\" data-news=\"news\"\n",
      "                        />\n",
      "                    <label for=\"73841847\" class=\"\">11:00</label>\n",
      "                                                                    <input type=\"radio\" name=\"schedule_list\" id=\"73841848\" class=\"gabtn\"\n",
      "                        value=\"2020-07-24 15:00:00\" data-movie_type=\"數位\"\n",
      "                        data-movie_title=\"壞教育\"\n",
      "                        data-movie_date=\"07.24\"\n",
      "                        data-movie_time=\"15:00\"\n",
      "                        data-ga=\"['電影頁_時刻表', '電影頁_時刻表_場次', '壞教育']\" data-news=\"news\"\n",
      "                        />\n",
      "                    <label for=\"73841848\" class=\"select\">15:00</label>\n",
      "                                                                    <input type=\"radio\" name=\"schedule_list\" id=\"73841849\" class=\"gabtn\"\n",
      "                        value=\"2020-07-24 19:00:00\" data-movie_type=\"數位\"\n",
      "                        data-movie_title=\"壞教育\"\n",
      "                        data-movie_date=\"07.24\"\n",
      "                        data-movie_time=\"19:00\"\n",
      "                        data-ga=\"['電影頁_時刻表', '電影頁_時刻表_場次', '壞教育']\" data-news=\"news\"\n",
      "                        />\n",
      "                    <label for=\"73841849\" class=\"select\">19:00</label>\n",
      "                                               </div>\n",
      "           </li>\n",
      "          </ul>\n",
      "      <ul id=\"theater_id_20\" class=\"area_time _c jq_area_time\" data-theater_name=\"湳山戲院\" data-theater_url=\"\" data-theater_schedules=\"https://movies.yahoo.com.tw/theater_result.html/id=20\" >\n",
      "       <li class=\"adds\">\n",
      "           <a href=\"https://movies.yahoo.com.tw/theater_result.html/id=20\">湳山戲院</a>\n",
      "           <span>02-27023130</span>\n",
      "       </li>\n",
      "                         <li class=\"taps\">\n",
      "                <span class=\"tapR\">數位</span>                           </li>\n",
      "           <li class=\"time _c\">\n",
      "               <div class=\"input_picker jq_input_picker\">\n",
      "                                                   <input type=\"radio\" name=\"schedule_list\" id=\"73841874\" class=\"gabtn\"\n",
      "                        value=\"2020-07-24 10:50:00\" data-movie_type=\"數位\"\n",
      "                        data-movie_title=\"壞教育\"\n",
      "                        data-movie_date=\"07.24\"\n",
      "                        data-movie_time=\"10:50\"\n",
      "                        data-ga=\"['電影頁_時刻表', '電影頁_時刻表_場次', '壞教育']\" data-news=\"news\"\n",
      "                        />\n",
      "                    <label for=\"73841874\" class=\"\">10:50</label>\n",
      "                                                                    <input type=\"radio\" name=\"schedule_list\" id=\"73841875\" class=\"gabtn\"\n",
      "                        value=\"2020-07-24 14:35:00\" data-movie_type=\"數位\"\n",
      "                        data-movie_title=\"壞教育\"\n",
      "                        data-movie_date=\"07.24\"\n",
      "                        data-movie_time=\"14:35\"\n",
      "                        data-ga=\"['電影頁_時刻表', '電影頁_時刻表_場次', '壞教育']\" data-news=\"news\"\n",
      "                        />\n",
      "                    <label for=\"73841875\" class=\"select\">14:35</label>\n",
      "                                                                    <input type=\"radio\" name=\"schedule_list\" id=\"73841876\" class=\"gabtn\"\n",
      "                        value=\"2020-07-24 18:20:00\" data-movie_type=\"數位\"\n",
      "                        data-movie_title=\"壞教育\"\n",
      "                        data-movie_date=\"07.24\"\n",
      "                        data-movie_time=\"18:20\"\n",
      "                        data-ga=\"['電影頁_時刻表', '電影頁_時刻表_場次', '壞教育']\" data-news=\"news\"\n",
      "                        />\n",
      "                    <label for=\"73841876\" class=\"select\">18:20</label>\n",
      "                                                                    <input type=\"radio\" name=\"schedule_list\" id=\"73841877\" class=\"gabtn\"\n",
      "                        value=\"2020-07-24 22:05:00\" data-movie_type=\"數位\"\n",
      "                        data-movie_title=\"壞教育\"\n",
      "                        data-movie_date=\"07.24\"\n",
      "                        data-movie_time=\"22:05\"\n",
      "                        data-ga=\"['電影頁_時刻表', '電影頁_時刻表_場次', '壞教育']\" data-news=\"news\"\n",
      "                        />\n",
      "                    <label for=\"73841877\" class=\"select\">22:05</label>\n",
      "                                               </div>\n",
      "           </li>\n",
      "          </ul>\n",
      "   </div>\n",
      "\n",
      "    <div class=\"booking_modal jq_booking_modal\">\n",
      "    <div class=\"booking_modal_backdrop\"></div>\n",
      "    <!-- 時報訂票 ＆ 有官網訂票 新增 class => no_seats -->\n",
      "    <div class=\"booking_modal_content jq_booking_modal_content\">\n",
      "        <form method=\"get\" action=\"https://movies.yahoo.com.tw/ticket/ezding_ticket\" target=\"_blank\" id=\"form_schedule\">\n",
      "                <div class=\"ezding_ticket_value\">\n",
      "            <input type=\"hidden\" name=\"movie_id\" value=\"\">\n",
      "            <input type=\"hidden\" name=\"cinema_id\" value=\"\">\n",
      "            <input type=\"hidden\" name=\"session_id\" value=\"\">\n",
      "            <input type=\"hidden\" name=\"date\" value=\"\">\n",
      "            <input type=\"hidden\" name=\"time\" value=\"\">\n",
      "            <input type=\"hidden\" name=\"campaign_code\" value=\"yahoopc\">\n",
      "        </div>\n",
      "        <ul class=\"top_infos\">\n",
      "            <li>\n",
      "                <p>片名</p>\n",
      "                <h3 id=\"top_infos_movie\"></h3>\n",
      "            </li>\n",
      "            <li>\n",
      "                <p>影城</p>\n",
      "                <h3 id=\"top_infos_theater\"></h3>\n",
      "            </li>\n",
      "            <li>\n",
      "                <p>日期</p>\n",
      "                <h3 id=\"top_infos_date\"></h3>\n",
      "            </li>\n",
      "            <li>\n",
      "                <p>版本</p>\n",
      "                <h3 id=\"top_infos_movie_type\"></h3>\n",
      "            </li>\n",
      "            <li>\n",
      "                <p>時間</p>\n",
      "                <h3 id=\"top_infos_time\"></h3>\n",
      "            </li>\n",
      "        </ul>\n",
      "        \n",
      "        <div class=\"booking_seats\">\n",
      "            <a href=\"#\" class=\"theater_schedules gabtn\" data-ga=\"['電影頁_時刻表', '電影頁_時刻表_一般戲院_全部電影場次', '']\">全部電影場次</a>\n",
      "            <a href=\"#\" class=\"theater_url gabtn\" data-ga=\"['電影頁_時刻表', '電影頁_時刻表_一般戲院_官網訂票', '']\" target=\"_blank\">官網訂票</a>\n",
      "            <p id=\"no_theater_url\" class=\"no_theater_url\">無提供官網訂票</p>\n",
      "\n",
      "            <p id=\"booking_number\" class=\"booking_number\">人數</p>\n",
      "            <div class=\"booking_seat_group jq_booking_seat_group\">\n",
      "                                    <input type=\"radio\" name=\"tickets\" id=\"seat_1\" value=\"1\" />\n",
      "                    <label for=\"seat_1\">1</label>\n",
      "                                    <input type=\"radio\" name=\"tickets\" id=\"seat_2\" value=\"2\"  checked />\n",
      "                    <label for=\"seat_2\">2</label>\n",
      "                                    <input type=\"radio\" name=\"tickets\" id=\"seat_3\" value=\"3\" />\n",
      "                    <label for=\"seat_3\">3</label>\n",
      "                                    <input type=\"radio\" name=\"tickets\" id=\"seat_4\" value=\"4\" />\n",
      "                    <label for=\"seat_4\">4</label>\n",
      "                                    <input type=\"radio\" name=\"tickets\" id=\"seat_5\" value=\"5\" />\n",
      "                    <label for=\"seat_5\">5</label>\n",
      "                                    <input type=\"radio\" name=\"tickets\" id=\"seat_6\" value=\"6\" />\n",
      "                    <label for=\"seat_6\">6</label>\n",
      "                            </div>\n",
      "            <button type=\"submit\" class=\"action_btn action_booking_btn jq_booking_btn gabtn\" data-ga=\"['電影頁_時刻表', '電影頁_時刻表_一般戲院_選位', '']\">選位</button>\n",
      "            <a href=\"#\" class=\"action_btn action_link jq_booking_link gabtn\" data-ga=\"['電影頁_時刻表', '電影頁_時刻表_時報戲院_官網選位', '']\" target=\"_blank\">官網訂票</a>\n",
      "            <button type=\"button\" class=\"action_btn close jq_close_booking_btn\">關閉</button>\n",
      "        </div>\n",
      "        </form>\n",
      "\n",
      "        <!-- 無官網訂票區塊 -->\n",
      "        <div class=\"no_theater_section\">\n",
      "            <p>無提供官網訂票</p>\n",
      "            <button type=\"button\" class=\"action_btn close jq_close_booking_btn\">關閉</button>\n",
      "        </div>\n",
      "    </div>\n",
      "</div></div>\n"
     ]
    }
   ],
   "source": [
    "print(resp.json()['view'])  # 若有需要，列印出json原始碼"
   ]
  },
  {
   "cell_type": "code",
   "execution_count": 11,
   "metadata": {},
   "outputs": [
    {
     "name": "stdout",
     "output_type": "stream",
     "text": [
      "len: 2 type: <class 'bs4.element.ResultSet'>\n"
     ]
    }
   ],
   "source": [
    "#試著從上一步驟回傳的電影院資料中，擷取電影院名稱、影片放映類型以及時間表¶\n",
    "print(\"len:\", len(html), \"type:\", type(html))"
   ]
  },
  {
   "cell_type": "code",
   "execution_count": 12,
   "metadata": {},
   "outputs": [
    {
     "name": "stdout",
     "output_type": "stream",
     "text": [
      "<ul class=\"area_time _c jq_area_time\" data-theater_name=\"景美佳佳戲院\" data-theater_schedules=\"https://movies.yahoo.com.tw/theater_result.html/id=17\" data-theater_url=\"\" id=\"theater_id_17\">\n",
      "<li class=\"adds\">\n",
      "<a href=\"https://movies.yahoo.com.tw/theater_result.html/id=17\">景美佳佳戲院</a>\n",
      "<span>02-29330333</span>\n",
      "</li>\n",
      "<li class=\"taps\">\n",
      "<span class=\"tapR\">數位</span> </li>\n",
      "<li class=\"time _c\">\n",
      "<div class=\"input_picker jq_input_picker\">\n",
      "<input class=\"gabtn\" data-ga=\"['電影頁_時刻表', '電影頁_時刻表_場次', '壞教育']\" data-movie_date=\"07.24\" data-movie_time=\"11:00\" data-movie_title=\"壞教育\" data-movie_type=\"數位\" data-news=\"news\" id=\"73841847\" name=\"schedule_list\" type=\"radio\" value=\"2020-07-24 11:00:00\"/>\n",
      "<label class=\"\" for=\"73841847\">11:00</label>\n",
      "<input class=\"gabtn\" data-ga=\"['電影頁_時刻表', '電影頁_時刻表_場次', '壞教育']\" data-movie_date=\"07.24\" data-movie_time=\"15:00\" data-movie_title=\"壞教育\" data-movie_type=\"數位\" data-news=\"news\" id=\"73841848\" name=\"schedule_list\" type=\"radio\" value=\"2020-07-24 15:00:00\"/>\n",
      "<label class=\"select\" for=\"73841848\">15:00</label>\n",
      "<input class=\"gabtn\" data-ga=\"['電影頁_時刻表', '電影頁_時刻表_場次', '壞教育']\" data-movie_date=\"07.24\" data-movie_time=\"19:00\" data-movie_title=\"壞教育\" data-movie_type=\"數位\" data-news=\"news\" id=\"73841849\" name=\"schedule_list\" type=\"radio\" value=\"2020-07-24 19:00:00\"/>\n",
      "<label class=\"select\" for=\"73841849\">19:00</label>\n",
      "</div>\n",
      "</li>\n",
      "</ul>\n"
     ]
    }
   ],
   "source": [
    "print(html[0])"
   ]
  },
  {
   "cell_type": "code",
   "execution_count": 13,
   "metadata": {},
   "outputs": [
    {
     "name": "stdout",
     "output_type": "stream",
     "text": [
      "景美佳佳戲院\n",
      "湳山戲院\n"
     ]
    }
   ],
   "source": [
    "#找到電影院名稱\n",
    "for h in html:\n",
    "    print(h['data-theater_name'])"
   ]
  },
  {
   "cell_type": "code",
   "execution_count": 14,
   "metadata": {},
   "outputs": [
    {
     "name": "stdout",
     "output_type": "stream",
     "text": [
      "[<li class=\"taps\">\n",
      "<span class=\"tapR\">數位</span> </li>]\n",
      "[<li class=\"taps\">\n",
      "<span class=\"tapR\">數位</span> </li>]\n"
     ]
    }
   ],
   "source": [
    "#影片放映類型以及時間表\n",
    "\n",
    "for h in html:\n",
    "    print(h.find_all('li', attrs={'class':\"taps\"}))"
   ]
  },
  {
   "cell_type": "code",
   "execution_count": 15,
   "metadata": {},
   "outputs": [
    {
     "name": "stdout",
     "output_type": "stream",
     "text": [
      "數位\n",
      "數位\n"
     ]
    }
   ],
   "source": [
    "for h in html:\n",
    "    for l in (h.find_all('li', attrs={'class':\"taps\"})):\n",
    "        print(l.find('span').text)"
   ]
  },
  {
   "cell_type": "code",
   "execution_count": 16,
   "metadata": {},
   "outputs": [
    {
     "name": "stdout",
     "output_type": "stream",
     "text": [
      "===\n",
      "<input class=\"gabtn\" data-ga=\"['電影頁_時刻表', '電影頁_時刻表_場次', '壞教育']\" data-movie_date=\"07.24\" data-movie_time=\"11:00\" data-movie_title=\"壞教育\" data-movie_type=\"數位\" data-news=\"news\" id=\"73841847\" name=\"schedule_list\" type=\"radio\" value=\"2020-07-24 11:00:00\"/>\n",
      "---\n",
      "2020-07-24 11:00:00\n",
      "===\n",
      "<input class=\"gabtn\" data-ga=\"['電影頁_時刻表', '電影頁_時刻表_場次', '壞教育']\" data-movie_date=\"07.24\" data-movie_time=\"10:50\" data-movie_title=\"壞教育\" data-movie_type=\"數位\" data-news=\"news\" id=\"73841874\" name=\"schedule_list\" type=\"radio\" value=\"2020-07-24 10:50:00\"/>\n",
      "---\n",
      "2020-07-24 10:50:00\n"
     ]
    }
   ],
   "source": [
    "#時間表\n",
    "for h in html:\n",
    "    print('===')\n",
    "    print(h.find('input'))\n",
    "    print('---')\n",
    "    print(h.find('input')['value'])"
   ]
  },
  {
   "cell_type": "code",
   "execution_count": 21,
   "metadata": {},
   "outputs": [
    {
     "name": "stdout",
     "output_type": "stream",
     "text": [
      "日期時間: 2020-07-24 11:00:00 電影類型: 數位 電影院: 景美佳佳戲院\n",
      "日期時間: 2020-07-24 10:50:00 電影類型: 數位 電影院: 湳山戲院\n"
     ]
    }
   ],
   "source": [
    "for h in html:\n",
    "    theater = h['data-theater_name']\n",
    "    time = h.find('input')['value']\n",
    "    t = h.find('li', attrs={'class':\"taps\"})\n",
    "    print(\"日期時間:\", time, \"電影類型:\", t.find('span').text, \"電影院:\", theater)"
   ]
  },
  {
   "cell_type": "code",
   "execution_count": null,
   "metadata": {},
   "outputs": [],
   "source": []
  }
 ],
 "metadata": {
  "kernelspec": {
   "display_name": "Python 3",
   "language": "python",
   "name": "python3"
  },
  "language_info": {
   "codemirror_mode": {
    "name": "ipython",
    "version": 3
   },
   "file_extension": ".py",
   "mimetype": "text/x-python",
   "name": "python",
   "nbconvert_exporter": "python",
   "pygments_lexer": "ipython3",
   "version": "3.7.4"
  }
 },
 "nbformat": 4,
 "nbformat_minor": 2
}
